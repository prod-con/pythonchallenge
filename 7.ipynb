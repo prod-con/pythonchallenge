{
 "cells": [
  {
   "cell_type": "code",
   "execution_count": 1,
   "id": "6e1771e7-a0de-4369-8b63-9cb2d114602b",
   "metadata": {},
   "outputs": [],
   "source": [
    "from PIL import Image"
   ]
  },
  {
   "cell_type": "code",
   "execution_count": 2,
   "id": "44ec5d9e-739a-4c29-be65-1f87680fdd86",
   "metadata": {},
   "outputs": [],
   "source": [
    "filename=\"oxygen.png\""
   ]
  },
  {
   "cell_type": "code",
   "execution_count": 3,
   "id": "78293461-c591-4559-8118-fae29cf07b01",
   "metadata": {},
   "outputs": [],
   "source": [
    "with Image.open(filename) as img:\n",
    "    img.load()"
   ]
  },
  {
   "cell_type": "code",
   "execution_count": 4,
   "id": "7fa3d53c-5533-40cc-8b9f-9d59248c9307",
   "metadata": {},
   "outputs": [],
   "source": [
    "pixels = list(img.getdata())"
   ]
  },
  {
   "cell_type": "code",
   "execution_count": 6,
   "id": "7307ee6b-c910-4447-87ab-3dc1d9b0f7d6",
   "metadata": {},
   "outputs": [],
   "source": [
    "img.show()"
   ]
  },
  {
   "cell_type": "code",
   "execution_count": null,
   "id": "b7e093e6-884e-4e8a-8b24-a2642f075e38",
   "metadata": {},
   "outputs": [],
   "source": []
  }
 ],
 "metadata": {
  "kernelspec": {
   "display_name": "Python 3 (ipykernel)",
   "language": "python",
   "name": "python3"
  },
  "language_info": {
   "codemirror_mode": {
    "name": "ipython",
    "version": 3
   },
   "file_extension": ".py",
   "mimetype": "text/x-python",
   "name": "python",
   "nbconvert_exporter": "python",
   "pygments_lexer": "ipython3",
   "version": "3.11.5"
  }
 },
 "nbformat": 4,
 "nbformat_minor": 5
}
